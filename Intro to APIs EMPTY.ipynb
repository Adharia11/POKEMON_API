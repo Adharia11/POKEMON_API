{
 "cells": [
  {
   "cell_type": "markdown",
   "id": "7196054f",
   "metadata": {},
   "source": [
    "# Working with APIs"
   ]
  },
  {
   "cell_type": "markdown",
   "id": "0547b71e",
   "metadata": {},
   "source": [
    "API stands for Application programming interface<br>\n",
    "APIs are a way for applications to talk to eachother<br>\n",
    "In python we use the requests package to handle the connection<br>\n",
    "<small><strong>Note: It is requests with an s not request(this is a different package)</strong></small><br>\n",
    "Most API's communicate with data in the form of JSON<br>\n",
    "JSON stands for JavaScript Object Notation"
   ]
  },
  {
   "cell_type": "code",
   "execution_count": 2,
   "id": "4db9d154",
   "metadata": {},
   "outputs": [],
   "source": [
    "#import the packages we need:\n",
    "import requests, json"
   ]
  },
  {
   "cell_type": "markdown",
   "id": "e8c2ce51",
   "metadata": {},
   "source": [
    "We will be connecting to the Ergast F1 Racer API today:\n",
    "http://ergast.com/mrd/\n",
    "\n",
    "to view JSON data nicely in the Chrome browser install the extension JSONview"
   ]
  },
  {
   "cell_type": "code",
   "execution_count": 4,
   "id": "52c440c6",
   "metadata": {},
   "outputs": [],
   "source": [
    "# help(requests)"
   ]
  },
  {
   "cell_type": "code",
   "execution_count": 3,
   "id": "f60c1b4a",
   "metadata": {},
   "outputs": [],
   "source": [
    "url = 'http://ergast.com/api/f1/2008/5/driverStandings.json'"
   ]
  },
  {
   "cell_type": "code",
   "execution_count": 2,
   "id": "7b63a204",
   "metadata": {},
   "outputs": [],
   "source": [
    "#response object\n"
   ]
  },
  {
   "cell_type": "code",
   "execution_count": 1,
   "id": "c6d1fdaf",
   "metadata": {},
   "outputs": [],
   "source": [
    "#check and make sure we got a successful response from the API\n"
   ]
  },
  {
   "cell_type": "code",
   "execution_count": 3,
   "id": "ed4d3256",
   "metadata": {},
   "outputs": [],
   "source": [
    "#view the response as a JSON\n"
   ]
  },
  {
   "cell_type": "code",
   "execution_count": null,
   "id": "92e6cd2c",
   "metadata": {},
   "outputs": [],
   "source": []
  },
  {
   "cell_type": "code",
   "execution_count": 4,
   "id": "f074dfcf",
   "metadata": {},
   "outputs": [],
   "source": [
    "# We only want the Driver Standings\n"
   ]
  },
  {
   "cell_type": "code",
   "execution_count": null,
   "id": "be46a950",
   "metadata": {},
   "outputs": [],
   "source": []
  },
  {
   "cell_type": "code",
   "execution_count": null,
   "id": "3740c752",
   "metadata": {},
   "outputs": [],
   "source": []
  },
  {
   "cell_type": "markdown",
   "id": "6d546014",
   "metadata": {},
   "source": [
    "# <strong>Homework</strong>\n",
    "check out this Pokemon API https://pokeapi.co/\n",
    "Use the requests package to connect to this API and get and store data for 5 different pokemon.\n",
    "Get the pokemons: name, atleast one ability's name, base_experience, and the URL for its sprite (an image that shows up on screen) for the 'front_shiny', attack base_state, hp base_stat, defense base_stat"
   ]
  },
  {
   "cell_type": "code",
   "execution_count": 8,
   "id": "139a3886",
   "metadata": {},
   "outputs": [
    {
     "name": "stdout",
     "output_type": "stream",
     "text": [
      "Pikachu Data: {'name': 'pikachu', 'ability': 'static', 'base_experience': 112, 'front_shiny_sprite': 'https://raw.githubusercontent.com/PokeAPI/sprites/master/sprites/pokemon/shiny/25.png', 'attack': 55, 'hp': 35, 'defense': 40}\n",
      "{'name': 'bulbasaur', 'ability': 'overgrow', 'base_experience': 64, 'front_shiny_sprite': 'https://raw.githubusercontent.com/PokeAPI/sprites/master/sprites/pokemon/shiny/1.png', 'attack': 49, 'hp': 45, 'defense': 49}\n",
      "{'name': 'charmander', 'ability': 'blaze', 'base_experience': 62, 'front_shiny_sprite': 'https://raw.githubusercontent.com/PokeAPI/sprites/master/sprites/pokemon/shiny/4.png', 'attack': 52, 'hp': 39, 'defense': 43}\n",
      "{'name': 'squirtle', 'ability': 'torrent', 'base_experience': 63, 'front_shiny_sprite': 'https://raw.githubusercontent.com/PokeAPI/sprites/master/sprites/pokemon/shiny/7.png', 'attack': 48, 'hp': 44, 'defense': 65}\n",
      "{'name': 'pikachu', 'ability': 'static', 'base_experience': 112, 'front_shiny_sprite': 'https://raw.githubusercontent.com/PokeAPI/sprites/master/sprites/pokemon/shiny/25.png', 'attack': 55, 'hp': 35, 'defense': 40}\n",
      "{'name': 'jigglypuff', 'ability': 'cute-charm', 'base_experience': 95, 'front_shiny_sprite': 'https://raw.githubusercontent.com/PokeAPI/sprites/master/sprites/pokemon/shiny/39.png', 'attack': 45, 'hp': 115, 'defense': 20}\n",
      "{'name': 'meowth', 'ability': 'pickup', 'base_experience': 58, 'front_shiny_sprite': 'https://raw.githubusercontent.com/PokeAPI/sprites/master/sprites/pokemon/shiny/52.png', 'attack': 45, 'hp': 40, 'defense': 35}\n",
      "{'name': 'psyduck', 'ability': 'damp', 'base_experience': 64, 'front_shiny_sprite': 'https://raw.githubusercontent.com/PokeAPI/sprites/master/sprites/pokemon/shiny/54.png', 'attack': 52, 'hp': 50, 'defense': 48}\n",
      "{'name': 'machop', 'ability': 'guts', 'base_experience': 61, 'front_shiny_sprite': 'https://raw.githubusercontent.com/PokeAPI/sprites/master/sprites/pokemon/shiny/66.png', 'attack': 80, 'hp': 70, 'defense': 50}\n",
      "{'name': 'geodude', 'ability': 'rock-head', 'base_experience': 60, 'front_shiny_sprite': 'https://raw.githubusercontent.com/PokeAPI/sprites/master/sprites/pokemon/shiny/74.png', 'attack': 80, 'hp': 40, 'defense': 100}\n",
      "{'name': 'magikarp', 'ability': 'swift-swim', 'base_experience': 40, 'front_shiny_sprite': 'https://raw.githubusercontent.com/PokeAPI/sprites/master/sprites/pokemon/shiny/129.png', 'attack': 10, 'hp': 20, 'defense': 55}\n",
      "{'name': 'eevee', 'ability': 'run-away', 'base_experience': 65, 'front_shiny_sprite': 'https://raw.githubusercontent.com/PokeAPI/sprites/master/sprites/pokemon/shiny/133.png', 'attack': 55, 'hp': 55, 'defense': 50}\n",
      "{'name': 'snorlax', 'ability': 'immunity', 'base_experience': 189, 'front_shiny_sprite': 'https://raw.githubusercontent.com/PokeAPI/sprites/master/sprites/pokemon/shiny/143.png', 'attack': 110, 'hp': 160, 'defense': 65}\n",
      "{'name': 'dratini', 'ability': 'shed-skin', 'base_experience': 60, 'front_shiny_sprite': 'https://raw.githubusercontent.com/PokeAPI/sprites/master/sprites/pokemon/shiny/147.png', 'attack': 64, 'hp': 41, 'defense': 45}\n",
      "{'name': 'cyndaquil', 'ability': 'blaze', 'base_experience': 62, 'front_shiny_sprite': 'https://raw.githubusercontent.com/PokeAPI/sprites/master/sprites/pokemon/shiny/155.png', 'attack': 52, 'hp': 39, 'defense': 43}\n",
      "{'name': 'totodile', 'ability': 'torrent', 'base_experience': 63, 'front_shiny_sprite': 'https://raw.githubusercontent.com/PokeAPI/sprites/master/sprites/pokemon/shiny/158.png', 'attack': 65, 'hp': 50, 'defense': 64}\n",
      "{'name': 'chikorita', 'ability': 'overgrow', 'base_experience': 64, 'front_shiny_sprite': 'https://raw.githubusercontent.com/PokeAPI/sprites/master/sprites/pokemon/shiny/152.png', 'attack': 49, 'hp': 45, 'defense': 65}\n",
      "{'name': 'mareep', 'ability': 'static', 'base_experience': 56, 'front_shiny_sprite': 'https://raw.githubusercontent.com/PokeAPI/sprites/master/sprites/pokemon/shiny/179.png', 'attack': 40, 'hp': 55, 'defense': 40}\n",
      "{'name': 'hoothoot', 'ability': 'insomnia', 'base_experience': 52, 'front_shiny_sprite': 'https://raw.githubusercontent.com/PokeAPI/sprites/master/sprites/pokemon/shiny/163.png', 'attack': 30, 'hp': 60, 'defense': 30}\n",
      "{'name': 'sentret', 'ability': 'run-away', 'base_experience': 43, 'front_shiny_sprite': 'https://raw.githubusercontent.com/PokeAPI/sprites/master/sprites/pokemon/shiny/161.png', 'attack': 46, 'hp': 35, 'defense': 34}\n",
      "{'name': 'natu', 'ability': 'synchronize', 'base_experience': 64, 'front_shiny_sprite': 'https://raw.githubusercontent.com/PokeAPI/sprites/master/sprites/pokemon/shiny/177.png', 'attack': 50, 'hp': 40, 'defense': 45}\n"
     ]
    }
   ],
   "source": [
    "def get_pokemon_data(pokemon_name):\n",
    "    url = f\"https://pokeapi.co/api/v2/pokemon/{pokemon_name}\"\n",
    "    response = requests.get(url)\n",
    "    \n",
    "    if response.status_code == 200:\n",
    "        data = response.json()\n",
    "        abilities = data['abilities']\n",
    "        ability_name = abilities[0]['ability']['name'] if abilities else 'None'\n",
    "        \n",
    "        return {\n",
    "            'name': data['name'],\n",
    "            'ability': ability_name,\n",
    "            'base_experience': data['base_experience'],\n",
    "            'front_shiny_sprite': data['sprites']['front_shiny'],\n",
    "            'attack': data['stats'][1]['base_stat'],  # Index 1 corresponds to Attack stat\n",
    "            'hp': data['stats'][0]['base_stat'],      # Index 0 corresponds to HP stat\n",
    "            'defense': data['stats'][2]['base_stat']  # Index 2 corresponds to Defense stat\n",
    "        }\n",
    "    else:\n",
    "        return None\n",
    "\n",
    "pikachu_data = get_pokemon_data('pikachu')\n",
    "if pikachu_data:\n",
    "    print(\"Pikachu Data:\", pikachu_data)\n",
    "else:\n",
    "    print(\"Pokemon not found or error occurred\")\n",
    "    \n",
    "pokemon_names = [\"bulbasaur\", \"charmander\", \"squirtle\", \"pikachu\", \"jigglypuff\", \"meowth\", \"psyduck\", \"machop\", \"geodude\", \"magikarp\",\n",
    "                 \"eevee\", \"snorlax\", \"dratini\", \"cyndaquil\", \"totodile\", \"chikorita\", \"mareep\", \"hoothoot\", \"sentret\", \"natu\"]\n",
    "\n",
    "pokemon_data_list = []\n",
    "\n",
    "for name in pokemon_names:\n",
    "    pokemon_data = get_pokemon_data(name)\n",
    "    if pokemon_data:\n",
    "        pokemon_data_list.append(pokemon_data)\n",
    "\n",
    "for pokemon_data in pokemon_data_list:\n",
    "    print(pokemon_data)\n"
   ]
  },
  {
   "cell_type": "code",
   "execution_count": null,
   "id": "62cd19da",
   "metadata": {},
   "outputs": [],
   "source": []
  }
 ],
 "metadata": {
  "kernelspec": {
   "display_name": "Python 3 (ipykernel)",
   "language": "python",
   "name": "python3"
  },
  "language_info": {
   "codemirror_mode": {
    "name": "ipython",
    "version": 3
   },
   "file_extension": ".py",
   "mimetype": "text/x-python",
   "name": "python",
   "nbconvert_exporter": "python",
   "pygments_lexer": "ipython3",
   "version": "3.9.13"
  }
 },
 "nbformat": 4,
 "nbformat_minor": 5
}
